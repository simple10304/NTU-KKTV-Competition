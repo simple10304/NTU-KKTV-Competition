{
  "nbformat": 4,
  "nbformat_minor": 0,
  "metadata": {
    "colab": {
      "provenance": [],
      "gpuType": "T4",
      "collapsed_sections": [
        "Uh3ZZxkYKbV2",
        "evxU8WCV8bx4",
        "Xvh6_qW58VDx"
      ]
    },
    "kernelspec": {
      "name": "python3",
      "display_name": "Python 3"
    },
    "language_info": {
      "name": "python"
    },
    "gpuClass": "standard",
    "accelerator": "GPU"
  },
  "cells": [
    {
      "cell_type": "markdown",
      "source": [
        "# Preparing"
      ],
      "metadata": {
        "id": "Uh3ZZxkYKbV2"
      }
    },
    {
      "cell_type": "code",
      "source": [
        "import pandas as pd\n",
        "import numpy as np\n",
        "import matplotlib.pyplot as plt\n",
        "\n",
        "from sklearn.model_selection import train_test_split\n",
        "import tensorflow as tf\n",
        "from tensorflow import keras\n",
        "from keras import Input\n",
        "from keras.models import Model\n",
        "from keras.layers import Dense, LSTM, Conv1D, Conv2D, MaxPooling1D, AveragePooling1D, GlobalMaxPooling1D,\\\n",
        "              Dropout, BatchNormalization, Flatten, Reshape, Concatenate, Bidirectional"
      ],
      "metadata": {
        "id": "e2BcVUquKX2I"
      },
      "execution_count": null,
      "outputs": []
    },
    {
      "cell_type": "code",
      "source": [
        "!gdown 12KgRkqQ1zb_xqP22CbRZozIqpbIRMU2J\n",
        "!gdown 1ZPnD9XJAQdAmtZ4PJWochdHaMXE24vAa\n",
        "!gdown 1LSOMo1WIFaImACF5ufThX5zc7lG-kXVy"
      ],
      "metadata": {
        "colab": {
          "base_uri": "https://localhost:8080/"
        },
        "id": "8DhoZpNdK8XF",
        "outputId": "a0b7485a-b01a-4883-a192-27ed0ce74d1e"
      },
      "execution_count": null,
      "outputs": [
        {
          "output_type": "stream",
          "name": "stdout",
          "text": [
            "Downloading...\n",
            "From: https://drive.google.com/uc?id=12KgRkqQ1zb_xqP22CbRZozIqpbIRMU2J\n",
            "To: /content/light_train_source_labels.csv\n",
            "100% 126M/126M [00:02<00:00, 62.4MB/s]\n",
            "Downloading...\n",
            "From: https://drive.google.com/uc?id=1ZPnD9XJAQdAmtZ4PJWochdHaMXE24vAa\n",
            "To: /content/light_train_target_labels.csv\n",
            "100% 3.58M/3.58M [00:00<00:00, 111MB/s]\n",
            "Downloading...\n",
            "From: https://drive.google.com/uc?id=1LSOMo1WIFaImACF5ufThX5zc7lG-kXVy\n",
            "To: /content/light_test_source_labels.csv\n",
            "100% 31.6M/31.6M [00:00<00:00, 143MB/s]\n"
          ]
        }
      ]
    },
    {
      "cell_type": "code",
      "source": [
        "train_source = pd.read_csv(\"light_train_source_labels.csv\")\n",
        "train_target = pd.read_csv(\"light_train_target_labels.csv\")\n",
        "test_source = pd.read_csv(\"light_test_source_labels.csv\")"
      ],
      "metadata": {
        "id": "1MU4Z5EVLU4X"
      },
      "execution_count": null,
      "outputs": []
    },
    {
      "cell_type": "markdown",
      "source": [
        "## Define Functions"
      ],
      "metadata": {
        "id": "45RTksF1RUGg"
      }
    },
    {
      "cell_type": "code",
      "source": [
        "def Draw_Loss_Acc(history):\n",
        "  fig, ax = plt.subplots(1, 2, figsize=(10, 5))\n",
        "\n",
        "  loss = history.history['loss']\n",
        "  val_loss = history.history['val_loss']\n",
        "  epochs = range(1, len(loss) + 1)\n",
        "  ax[0].plot(epochs, loss, 'b', label='Training loss')\n",
        "  ax[0].plot(epochs, val_loss, 'r', label='Validation loss')\n",
        "  ax[0].set_title('Training and validation loss')\n",
        "  ax[0].set_xlabel('Epochs')\n",
        "  ax[0].set_ylabel('Loss')\n",
        "  ax[0].legend()\n",
        "\n",
        "  auc = history.history['auc']\n",
        "  val_auc = history.history['val_auc']\n",
        "  ax[1].plot(epochs, auc, 'b', label='Training acc')\n",
        "  ax[1].plot(epochs, val_auc, 'r', label='Validation acc')\n",
        "  ax[1].set_title('Training and validation accuracy')\n",
        "  ax[1].set_xlabel('Epochs')\n",
        "  ax[1].set_ylabel('Loss')\n",
        "  ax[1].legend()"
      ],
      "metadata": {
        "id": "XtNhAZFBP1uQ"
      },
      "execution_count": null,
      "outputs": []
    },
    {
      "cell_type": "code",
      "source": [
        "def Test_Functional_Model(epochs):\n",
        "  model = Construct_Functional_Model()\n",
        "\n",
        "  history = model.fit(x_train, y_train, batch_size=256, epochs=epochs, validation_data=(x_valid, y_valid))\n",
        "\n",
        "  print(\"\\nLocal Test:\")\n",
        "  model.evaluate(x_test, y_test)\n",
        "\n",
        "  print(\"\\n\\nLoss/AUC Graph:\")\n",
        "  Draw_Loss_Acc(history)\n",
        "\n",
        "  return model, history"
      ],
      "metadata": {
        "id": "S09KzeGJQPqn"
      },
      "execution_count": null,
      "outputs": []
    },
    {
      "cell_type": "code",
      "source": [
        "def Refit_Model(epochs):\n",
        "  model = Construct_Functional_Model()\n",
        "  history = model.fit(X, y, batch_size=256, epochs=epochs)\n",
        "\n",
        "  return model, history"
      ],
      "metadata": {
        "id": "cYBxsEmZSrgm"
      },
      "execution_count": null,
      "outputs": []
    },
    {
      "cell_type": "markdown",
      "source": [
        "## Load Data"
      ],
      "metadata": {
        "id": "KTfAd0HcRGlz"
      }
    },
    {
      "cell_type": "code",
      "source": [
        "X = train_source.iloc[:, 1:].to_numpy()\n",
        "y = train_target.iloc[:, 1:].to_numpy()\n",
        "\n",
        "# train : valid : test = 0.8 : 0.1 : 0.1\n",
        "x_train, x_test, y_train, y_test = train_test_split(X, y, test_size=0.2, random_state=0)\n",
        "x_valid, x_test, y_valid, y_test = train_test_split(x_test, y_test, test_size=0.5, random_state=0)"
      ],
      "metadata": {
        "id": "-YOFEZocMFro"
      },
      "execution_count": null,
      "outputs": []
    },
    {
      "cell_type": "markdown",
      "source": [
        "# Training"
      ],
      "metadata": {
        "id": "eh6WbnRZNzPB"
      }
    },
    {
      "cell_type": "markdown",
      "source": [
        "## Model Structure"
      ],
      "metadata": {
        "id": "ynO1oXVlSHc6"
      }
    },
    {
      "cell_type": "markdown",
      "source": [
        "### [CNN_14_drop=0.5(32), LSTM(32, relu, 0.375, 0.375)] output=LSTM, epoch=50"
      ],
      "metadata": {
        "id": "evxU8WCV8bx4"
      }
    },
    {
      "cell_type": "code",
      "source": [
        "# def CNN_Week(input, num_of_filters, num_of_weeks, dropout_rate):\n",
        "#   cnn = Conv1D(filters=num_of_filters, kernel_size=num_of_weeks*7, strides=7, activation='relu', padding='same', data_format='channels_last')(input)\n",
        "#   return Dropout(dropout_rate)(cnn)\n",
        "\n",
        "\n",
        "# def Construct_Functional_Model():\n",
        "#   tf.keras.backend.clear_session()\n",
        "\n",
        "\n",
        "#   # Model Structure\n",
        "#   input = Input(shape=(1036))\n",
        "\n",
        "#   cnn = CNN_Week(Reshape((259, 4))(input), 32, 2, 0.5)\n",
        "#   lstm = LSTM(32, activation='relu', dropout=0.375, recurrent_dropout=0.375, return_sequences=True)(Reshape((37, 28))(input))\n",
        "#   merged = Concatenate(axis=-1)([cnn, lstm])\n",
        "\n",
        "#   predictions = LSTM(28, activation='sigmoid')(merged)\n",
        "\n",
        "#   model = Model(input, predictions)\n",
        "#   # Model Structure\n",
        "\n",
        "\n",
        "#   model.compile(optimizer='adam', loss = 'binary_crossentropy', metrics=[keras.metrics.AUC()])\n",
        "#   print(model.summary())\n",
        "#   return model"
      ],
      "metadata": {
        "id": "qm1oenMtMmch"
      },
      "execution_count": null,
      "outputs": []
    },
    {
      "cell_type": "markdown",
      "source": [
        "### [CNN_14_drop0.5(16), CNN_21_drop0.5(16), CNN_28_drop0.5(16), LSTM(32, drop=0.375)] output=LSTM, epoch=40"
      ],
      "metadata": {
        "id": "Xvh6_qW58VDx"
      }
    },
    {
      "cell_type": "code",
      "source": [
        "# def CNN_Week(input, num_of_filters, num_of_weeks):\n",
        "#   cnn = Conv1D(filters=num_of_filters, kernel_size=num_of_weeks*7, strides=7, activation='relu', padding='same', data_format='channels_last')(input)\n",
        "#   return Dropout(0.5)(cnn)\n",
        "\n",
        "\n",
        "# def Construct_Functional_Model():\n",
        "#   tf.keras.backend.clear_session()\n",
        "\n",
        "\n",
        "#   # Model Structure\n",
        "#   input = Input(shape=(1036))\n",
        "\n",
        "#   cnn_2 = CNN_Week(Reshape((259, 4))(input), 16, 2)\n",
        "#   cnn_3 = CNN_Week(Reshape((259, 4))(input), 16, 3)\n",
        "#   cnn_4 = CNN_Week(Reshape((259, 4))(input), 16, 4)\n",
        "#   lstm = LSTM(32, activation='relu', dropout=0.375, return_sequences=True)(Reshape((37, 28))(input))\n",
        "#   merged = Concatenate(axis=-1)([cnn_2, cnn_3, cnn_4, lstm])\n",
        "\n",
        "#   predictions = LSTM(28, activation='sigmoid')(merged)\n",
        "\n",
        "#   model = Model(input, predictions)\n",
        "#   # Model Structure\n",
        "\n",
        "\n",
        "#   model.compile(optimizer='adam', loss = 'binary_crossentropy', metrics=[keras.metrics.AUC()])\n",
        "#   print(model.summary())\n",
        "#   return model"
      ],
      "metadata": {
        "id": "T-jpOun37Bt-"
      },
      "execution_count": null,
      "outputs": []
    },
    {
      "cell_type": "markdown",
      "source": [
        "### Dual LSTM"
      ],
      "metadata": {
        "id": "owUUShyD9seC"
      }
    },
    {
      "cell_type": "code",
      "source": [
        "def Construct_Functional_Model():\n",
        "  tf.keras.backend.clear_session()\n",
        "\n",
        "\n",
        "  # Model Structure\n",
        "  input = Input(shape=(1036))\n",
        "  reshaped = Reshape((37, 28))(input)\n",
        "\n",
        "  lstm_1 = LSTM(32, dropout=0.375, activation='relu', recurrent_dropout=0.375, return_sequences=True)(reshaped)\n",
        "  lstm_2 = LSTM(32, dropout=0.375, activation='relu', recurrent_dropout=0.375, return_sequences=True)(reshaped)\n",
        "\n",
        "  merged = Concatenate(axis=-1)([lstm_1, lstm_2])\n",
        "\n",
        "  predictions = LSTM (28, activation='sigmoid')(merged)\n",
        "  model = Model(input, predictions)\n",
        "  # Model Structure\n",
        "\n",
        "\n",
        "  model.compile(optimizer='adam', loss = 'binary_crossentropy', metrics=[keras.metrics.AUC(1000)])\n",
        "  print(model.summary())\n",
        "  return model"
      ],
      "metadata": {
        "id": "CkfVzLtd-wiH"
      },
      "execution_count": null,
      "outputs": []
    },
    {
      "cell_type": "markdown",
      "source": [
        "## Training, Validating, and Testing"
      ],
      "metadata": {
        "id": "qpVA81E4SK6u"
      }
    },
    {
      "cell_type": "code",
      "source": [
        "# epochs = 50\n",
        "# model, history = Test_Functional_Model(epochs)"
      ],
      "metadata": {
        "colab": {
          "base_uri": "https://localhost:8080/",
          "height": 1000
        },
        "id": "cuPZsgzYQeE-",
        "outputId": "5ffa8c25-0cd7-4e56-b9ed-78fc18061f74"
      },
      "execution_count": null,
      "outputs": [
        {
          "output_type": "stream",
          "name": "stderr",
          "text": [
            "WARNING:tensorflow:Layer lstm will not use cuDNN kernels since it doesn't meet the criteria. It will use a generic GPU kernel as fallback when running on GPU.\n",
            "WARNING:tensorflow:Layer lstm_1 will not use cuDNN kernels since it doesn't meet the criteria. It will use a generic GPU kernel as fallback when running on GPU.\n",
            "WARNING:tensorflow:Layer lstm_2 will not use cuDNN kernels since it doesn't meet the criteria. It will use a generic GPU kernel as fallback when running on GPU.\n"
          ]
        },
        {
          "output_type": "stream",
          "name": "stdout",
          "text": [
            "Model: \"model\"\n",
            "__________________________________________________________________________________________________\n",
            " Layer (type)                   Output Shape         Param #     Connected to                     \n",
            "==================================================================================================\n",
            " input_1 (InputLayer)           [(None, 1036)]       0           []                               \n",
            "                                                                                                  \n",
            " reshape (Reshape)              (None, 37, 28)       0           ['input_1[0][0]']                \n",
            "                                                                                                  \n",
            " lstm (LSTM)                    (None, 37, 32)       7808        ['reshape[0][0]']                \n",
            "                                                                                                  \n",
            " lstm_1 (LSTM)                  (None, 37, 32)       7808        ['reshape[0][0]']                \n",
            "                                                                                                  \n",
            " concatenate (Concatenate)      (None, 37, 64)       0           ['lstm[0][0]',                   \n",
            "                                                                  'lstm_1[0][0]']                 \n",
            "                                                                                                  \n",
            " lstm_2 (LSTM)                  (None, 28)           10416       ['concatenate[0][0]']            \n",
            "                                                                                                  \n",
            "==================================================================================================\n",
            "Total params: 26,032\n",
            "Trainable params: 26,032\n",
            "Non-trainable params: 0\n",
            "__________________________________________________________________________________________________\n",
            "None\n",
            "Epoch 1/50\n",
            "96/96 [==============================] - 45s 350ms/step - loss: 0.3833 - auc: 0.6981 - val_loss: 0.3333 - val_auc: 0.7966\n",
            "Epoch 2/50\n",
            "96/96 [==============================] - 33s 339ms/step - loss: 0.3268 - auc: 0.8039 - val_loss: 0.3208 - val_auc: 0.8143\n",
            "Epoch 3/50\n",
            "96/96 [==============================] - 32s 331ms/step - loss: 0.3190 - auc: 0.8171 - val_loss: 0.3156 - val_auc: 0.8238\n",
            "Epoch 4/50\n",
            "96/96 [==============================] - 33s 344ms/step - loss: 0.3152 - auc: 0.8230 - val_loss: 0.3133 - val_auc: 0.8265\n",
            "Epoch 5/50\n",
            "96/96 [==============================] - 31s 326ms/step - loss: 0.3134 - auc: 0.8256 - val_loss: 0.3116 - val_auc: 0.8290\n",
            "Epoch 6/50\n",
            "96/96 [==============================] - 32s 334ms/step - loss: 0.3122 - auc: 0.8275 - val_loss: 0.3107 - val_auc: 0.8302\n",
            "Epoch 7/50\n",
            "96/96 [==============================] - 32s 336ms/step - loss: 0.3113 - auc: 0.8287 - val_loss: 0.3107 - val_auc: 0.8309\n",
            "Epoch 8/50\n",
            "96/96 [==============================] - 31s 321ms/step - loss: 0.3103 - auc: 0.8302 - val_loss: 0.3093 - val_auc: 0.8322\n",
            "Epoch 9/50\n",
            "96/96 [==============================] - 33s 340ms/step - loss: 0.3099 - auc: 0.8308 - val_loss: 0.3096 - val_auc: 0.8322\n",
            "Epoch 10/50\n",
            "96/96 [==============================] - 32s 329ms/step - loss: 0.3094 - auc: 0.8315 - val_loss: 0.3092 - val_auc: 0.8330\n",
            "Epoch 11/50\n",
            "96/96 [==============================] - 33s 346ms/step - loss: 0.3089 - auc: 0.8325 - val_loss: 0.3087 - val_auc: 0.8331\n",
            "Epoch 12/50\n",
            "96/96 [==============================] - 32s 333ms/step - loss: 0.3088 - auc: 0.8324 - val_loss: 0.3090 - val_auc: 0.8330\n",
            "Epoch 13/50\n",
            "96/96 [==============================] - 33s 335ms/step - loss: 0.3084 - auc: 0.8330 - val_loss: 0.3087 - val_auc: 0.8339\n",
            "Epoch 14/50\n",
            "96/96 [==============================] - 33s 343ms/step - loss: 0.3083 - auc: 0.8332 - val_loss: 0.3080 - val_auc: 0.8343\n",
            "Epoch 15/50\n",
            "96/96 [==============================] - 31s 324ms/step - loss: 0.3079 - auc: 0.8336 - val_loss: 0.3088 - val_auc: 0.8334\n",
            "Epoch 16/50\n",
            "96/96 [==============================] - 32s 336ms/step - loss: 0.3078 - auc: 0.8341 - val_loss: 0.3077 - val_auc: 0.8346\n",
            "Epoch 17/50\n",
            "96/96 [==============================] - 30s 318ms/step - loss: 0.3071 - auc: 0.8348 - val_loss: 0.3073 - val_auc: 0.8354\n",
            "Epoch 18/50\n",
            "96/96 [==============================] - 32s 338ms/step - loss: 0.3072 - auc: 0.8348 - val_loss: 0.3076 - val_auc: 0.8348\n",
            "Epoch 19/50\n",
            "96/96 [==============================] - 31s 323ms/step - loss: 0.3070 - auc: 0.8351 - val_loss: 0.3074 - val_auc: 0.8350\n",
            "Epoch 20/50\n",
            "96/96 [==============================] - 32s 333ms/step - loss: 0.3069 - auc: 0.8352 - val_loss: 0.3070 - val_auc: 0.8353\n",
            "Epoch 21/50\n",
            "96/96 [==============================] - 32s 338ms/step - loss: 0.3064 - auc: 0.8359 - val_loss: 0.3069 - val_auc: 0.8356\n",
            "Epoch 22/50\n",
            "96/96 [==============================] - 32s 334ms/step - loss: 0.3064 - auc: 0.8358 - val_loss: 0.3074 - val_auc: 0.8349\n",
            "Epoch 23/50\n",
            "96/96 [==============================] - 32s 335ms/step - loss: 0.3062 - auc: 0.8361 - val_loss: 0.3070 - val_auc: 0.8355\n",
            "Epoch 24/50\n",
            "96/96 [==============================] - 31s 327ms/step - loss: 0.3062 - auc: 0.8361 - val_loss: 0.3069 - val_auc: 0.8356\n",
            "Epoch 25/50\n",
            "96/96 [==============================] - 32s 336ms/step - loss: 0.3059 - auc: 0.8367 - val_loss: 0.3075 - val_auc: 0.8349\n",
            "Epoch 26/50\n",
            "96/96 [==============================] - 31s 328ms/step - loss: 0.3059 - auc: 0.8367 - val_loss: 0.3070 - val_auc: 0.8355\n",
            "Epoch 27/50\n",
            "96/96 [==============================] - 32s 330ms/step - loss: 0.3057 - auc: 0.8368 - val_loss: 0.3064 - val_auc: 0.8364\n",
            "Epoch 28/50\n",
            "96/96 [==============================] - 32s 333ms/step - loss: 0.3058 - auc: 0.8368 - val_loss: 0.3068 - val_auc: 0.8357\n",
            "Epoch 29/50\n",
            "96/96 [==============================] - 31s 324ms/step - loss: 0.3052 - auc: 0.8374 - val_loss: 0.3071 - val_auc: 0.8358\n",
            "Epoch 30/50\n",
            "96/96 [==============================] - 32s 333ms/step - loss: 0.3052 - auc: 0.8374 - val_loss: 0.3065 - val_auc: 0.8362\n",
            "Epoch 31/50\n",
            "96/96 [==============================] - 31s 324ms/step - loss: 0.3052 - auc: 0.8376 - val_loss: 0.3071 - val_auc: 0.8357\n",
            "Epoch 32/50\n",
            "96/96 [==============================] - 32s 338ms/step - loss: 0.3052 - auc: 0.8376 - val_loss: 0.3064 - val_auc: 0.8366\n",
            "Epoch 33/50\n",
            "96/96 [==============================] - 31s 322ms/step - loss: 0.3050 - auc: 0.8378 - val_loss: 0.3065 - val_auc: 0.8361\n",
            "Epoch 34/50\n",
            "96/96 [==============================] - 32s 330ms/step - loss: 0.3046 - auc: 0.8382 - val_loss: 0.3065 - val_auc: 0.8364\n",
            "Epoch 35/50\n",
            "96/96 [==============================] - 31s 323ms/step - loss: 0.3049 - auc: 0.8379 - val_loss: 0.3063 - val_auc: 0.8365\n",
            "Epoch 36/50\n",
            "96/96 [==============================] - 38s 402ms/step - loss: 0.3045 - auc: 0.8385 - val_loss: 0.3068 - val_auc: 0.8363\n",
            "Epoch 37/50\n",
            "96/96 [==============================] - 32s 332ms/step - loss: 0.3045 - auc: 0.8385 - val_loss: 0.3064 - val_auc: 0.8364\n",
            "Epoch 38/50\n",
            "96/96 [==============================] - 33s 345ms/step - loss: 0.3043 - auc: 0.8388 - val_loss: 0.3061 - val_auc: 0.8369\n",
            "Epoch 39/50\n",
            "96/96 [==============================] - 31s 328ms/step - loss: 0.3042 - auc: 0.8388 - val_loss: 0.3063 - val_auc: 0.8368\n",
            "Epoch 40/50\n",
            "96/96 [==============================] - 33s 343ms/step - loss: 0.3042 - auc: 0.8389 - val_loss: 0.3065 - val_auc: 0.8365\n",
            "Epoch 41/50\n",
            "96/96 [==============================] - 31s 320ms/step - loss: 0.3042 - auc: 0.8388 - val_loss: 0.3064 - val_auc: 0.8364\n",
            "Epoch 42/50\n",
            "96/96 [==============================] - 33s 342ms/step - loss: 0.3039 - auc: 0.8393 - val_loss: 0.3061 - val_auc: 0.8368\n",
            "Epoch 43/50\n",
            "96/96 [==============================] - 32s 336ms/step - loss: 0.3041 - auc: 0.8391 - val_loss: 0.3065 - val_auc: 0.8365\n",
            "Epoch 44/50\n",
            "96/96 [==============================] - 31s 329ms/step - loss: 0.3040 - auc: 0.8392 - val_loss: 0.3063 - val_auc: 0.8368\n",
            "Epoch 45/50\n",
            "96/96 [==============================] - 34s 356ms/step - loss: 0.3041 - auc: 0.8391 - val_loss: 0.3061 - val_auc: 0.8368\n",
            "Epoch 46/50\n",
            "96/96 [==============================] - 35s 367ms/step - loss: 0.3037 - auc: 0.8394 - val_loss: 0.3063 - val_auc: 0.8366\n",
            "Epoch 47/50\n",
            "96/96 [==============================] - 31s 323ms/step - loss: 0.3036 - auc: 0.8397 - val_loss: 0.3068 - val_auc: 0.8364\n",
            "Epoch 48/50\n",
            "96/96 [==============================] - 33s 339ms/step - loss: 0.3038 - auc: 0.8394 - val_loss: 0.3063 - val_auc: 0.8366\n",
            "Epoch 49/50\n",
            "96/96 [==============================] - 31s 324ms/step - loss: 0.3036 - auc: 0.8397 - val_loss: 0.3063 - val_auc: 0.8366\n",
            "Epoch 50/50\n",
            "96/96 [==============================] - 33s 342ms/step - loss: 0.3034 - auc: 0.8399 - val_loss: 0.3064 - val_auc: 0.8365\n",
            "\n",
            "Local Test:\n",
            "96/96 [==============================] - 3s 36ms/step - loss: 0.3043 - auc: 0.8345\n",
            "\n",
            "\n",
            "Loss/AUC Graph:\n"
          ]
        },
        {
          "output_type": "display_data",
          "data": {
            "text/plain": [
              "<Figure size 1000x500 with 2 Axes>"
            ],
            "image/png": "[encoded data removed]"
          },
          "metadata": {}
        }
      ]
    },
    {
      "cell_type": "markdown",
      "source": [
        "# Output Prediciton"
      ],
      "metadata": {
        "id": "TnPdcZ6xN06W"
      }
    },
    {
      "cell_type": "markdown",
      "source": [
        "## Refit on All Data"
      ],
      "metadata": {
        "id": "ji3UJhU9SaL2"
      }
    },
    {
      "cell_type": "code",
      "source": [
        "epochs=40"
      ],
      "metadata": {
        "id": "9k6ihAFeGRCI"
      },
      "execution_count": null,
      "outputs": []
    },
    {
      "cell_type": "code",
      "source": [
        "model, history = Refit_Model(epochs)"
      ],
      "metadata": {
        "colab": {
          "base_uri": "https://localhost:8080/"
        },
        "id": "FOYPMoVqSWdq",
        "outputId": "3f73d590-996d-4cfb-9932-b70371dd3507"
      },
      "execution_count": null,
      "outputs": [
        {
          "output_type": "stream",
          "name": "stderr",
          "text": [
            "WARNING:tensorflow:Layer lstm will not use cuDNN kernels since it doesn't meet the criteria. It will use a generic GPU kernel as fallback when running on GPU.\n",
            "WARNING:tensorflow:Layer lstm_1 will not use cuDNN kernels since it doesn't meet the criteria. It will use a generic GPU kernel as fallback when running on GPU.\n",
            "WARNING:tensorflow:Layer lstm_2 will not use cuDNN kernels since it doesn't meet the criteria. It will use a generic GPU kernel as fallback when running on GPU.\n"
          ]
        },
        {
          "output_type": "stream",
          "name": "stdout",
          "text": [
            "Model: \"model\"\n",
            "__________________________________________________________________________________________________\n",
            " Layer (type)                   Output Shape         Param #     Connected to                     \n",
            "==================================================================================================\n",
            " input_1 (InputLayer)           [(None, 1036)]       0           []                               \n",
            "                                                                                                  \n",
            " reshape (Reshape)              (None, 37, 28)       0           ['input_1[0][0]']                \n",
            "                                                                                                  \n",
            " lstm (LSTM)                    (None, 37, 32)       7808        ['reshape[0][0]']                \n",
            "                                                                                                  \n",
            " lstm_1 (LSTM)                  (None, 37, 32)       7808        ['reshape[0][0]']                \n",
            "                                                                                                  \n",
            " concatenate (Concatenate)      (None, 37, 64)       0           ['lstm[0][0]',                   \n",
            "                                                                  'lstm_1[0][0]']                 \n",
            "                                                                                                  \n",
            " lstm_2 (LSTM)                  (None, 28)           10416       ['concatenate[0][0]']            \n",
            "                                                                                                  \n",
            "==================================================================================================\n",
            "Total params: 26,032\n",
            "Trainable params: 26,032\n",
            "Non-trainable params: 0\n",
            "__________________________________________________________________________________________________\n",
            "None\n",
            "Epoch 1/40\n",
            "119/119 [==============================] - 54s 354ms/step - loss: 0.3790 - auc: 0.7055\n",
            "Epoch 2/40\n",
            "119/119 [==============================] - 41s 346ms/step - loss: 0.3234 - auc: 0.8090\n",
            "Epoch 3/40\n",
            "119/119 [==============================] - 42s 350ms/step - loss: 0.3164 - auc: 0.8205\n",
            "Epoch 4/40\n",
            "119/119 [==============================] - 39s 332ms/step - loss: 0.3134 - auc: 0.8251\n",
            "Epoch 5/40\n",
            "119/119 [==============================] - 39s 330ms/step - loss: 0.3119 - auc: 0.8274\n",
            "Epoch 6/40\n",
            "119/119 [==============================] - 40s 340ms/step - loss: 0.3107 - auc: 0.8293\n",
            "Epoch 7/40\n",
            "119/119 [==============================] - 42s 357ms/step - loss: 0.3101 - auc: 0.8300\n",
            "Epoch 8/40\n",
            "119/119 [==============================] - 41s 348ms/step - loss: 0.3095 - auc: 0.8311\n",
            "Epoch 9/40\n",
            "119/119 [==============================] - 42s 352ms/step - loss: 0.3090 - auc: 0.8318\n",
            "Epoch 10/40\n",
            "119/119 [==============================] - 43s 360ms/step - loss: 0.3087 - auc: 0.8321\n",
            "Epoch 11/40\n",
            "119/119 [==============================] - 41s 341ms/step - loss: 0.3084 - auc: 0.8326\n",
            "Epoch 12/40\n",
            "119/119 [==============================] - 41s 342ms/step - loss: 0.3079 - auc: 0.8333\n",
            "Epoch 13/40\n",
            "119/119 [==============================] - 41s 347ms/step - loss: 0.3078 - auc: 0.8335\n",
            "Epoch 14/40\n",
            "119/119 [==============================] - 41s 344ms/step - loss: 0.3072 - auc: 0.8343\n",
            "Epoch 15/40\n",
            "119/119 [==============================] - 40s 334ms/step - loss: 0.3075 - auc: 0.8341\n",
            "Epoch 16/40\n",
            "119/119 [==============================] - 40s 340ms/step - loss: 0.3070 - auc: 0.8346\n",
            "Epoch 17/40\n",
            "119/119 [==============================] - 38s 319ms/step - loss: 0.3068 - auc: 0.8349\n",
            "Epoch 18/40\n",
            "119/119 [==============================] - 37s 315ms/step - loss: 0.3065 - auc: 0.8353\n",
            "Epoch 19/40\n",
            "119/119 [==============================] - 38s 321ms/step - loss: 0.3065 - auc: 0.8352\n",
            "Epoch 20/40\n",
            "119/119 [==============================] - 38s 318ms/step - loss: 0.3063 - auc: 0.8357\n",
            "Epoch 21/40\n",
            "119/119 [==============================] - 38s 319ms/step - loss: 0.3061 - auc: 0.8358\n",
            "Epoch 22/40\n",
            "119/119 [==============================] - 38s 321ms/step - loss: 0.3060 - auc: 0.8360\n",
            "Epoch 23/40\n",
            "119/119 [==============================] - 37s 315ms/step - loss: 0.3059 - auc: 0.8362\n",
            "Epoch 24/40\n",
            "119/119 [==============================] - 39s 325ms/step - loss: 0.3056 - auc: 0.8366\n",
            "Epoch 25/40\n",
            "119/119 [==============================] - 38s 322ms/step - loss: 0.3054 - auc: 0.8368\n",
            "Epoch 26/40\n",
            "119/119 [==============================] - 39s 326ms/step - loss: 0.3054 - auc: 0.8368\n",
            "Epoch 27/40\n",
            "119/119 [==============================] - 38s 323ms/step - loss: 0.3054 - auc: 0.8369\n",
            "Epoch 28/40\n",
            "119/119 [==============================] - 38s 320ms/step - loss: 0.3052 - auc: 0.8371\n",
            "Epoch 29/40\n",
            "119/119 [==============================] - 38s 321ms/step - loss: 0.3050 - auc: 0.8373\n",
            "Epoch 30/40\n",
            "119/119 [==============================] - 39s 326ms/step - loss: 0.3048 - auc: 0.8376\n",
            "Epoch 31/40\n",
            "119/119 [==============================] - 39s 327ms/step - loss: 0.3049 - auc: 0.8374\n",
            "Epoch 32/40\n",
            "119/119 [==============================] - 38s 318ms/step - loss: 0.3047 - auc: 0.8378\n",
            "Epoch 33/40\n",
            "119/119 [==============================] - 38s 321ms/step - loss: 0.3047 - auc: 0.8378\n",
            "Epoch 34/40\n",
            "119/119 [==============================] - 38s 318ms/step - loss: 0.3044 - auc: 0.8381\n",
            "Epoch 35/40\n",
            "119/119 [==============================] - 38s 318ms/step - loss: 0.3045 - auc: 0.8381\n",
            "Epoch 36/40\n",
            "119/119 [==============================] - 38s 320ms/step - loss: 0.3042 - auc: 0.8384\n",
            "Epoch 37/40\n",
            "119/119 [==============================] - 38s 322ms/step - loss: 0.3043 - auc: 0.8384\n",
            "Epoch 38/40\n",
            "119/119 [==============================] - 39s 324ms/step - loss: 0.3042 - auc: 0.8384\n",
            "Epoch 39/40\n",
            "119/119 [==============================] - 38s 322ms/step - loss: 0.3040 - auc: 0.8387\n",
            "Epoch 40/40\n",
            "119/119 [==============================] - 39s 324ms/step - loss: 0.3040 - auc: 0.8388\n"
          ]
        }
      ]
    },
    {
      "cell_type": "markdown",
      "source": [
        "## Predict"
      ],
      "metadata": {
        "id": "tAvxeiFgSXL-"
      }
    },
    {
      "cell_type": "code",
      "source": [
        "output = model.predict(test_source.iloc[:, 1:].to_numpy())\n",
        "\n",
        "col = [f\"time_slot_{i}\" for i in range(28)]\n",
        "df = pd.DataFrame(output, columns=col)\n",
        "df = pd.concat([test_source.iloc[:, 0], df], axis=1)\n",
        "\n",
        "df.to_csv(\"Dual_LSTM(32, relu, drop=recurr_drop=0.375), epoch=40.csv\", index=False)"
      ],
      "metadata": {
        "colab": {
          "base_uri": "https://localhost:8080/"
        },
        "id": "sT8vzx4kN4dU",
        "outputId": "cf5ad74b-7c08-4eb0-93ff-9d33490a3306"
      },
      "execution_count": null,
      "outputs": [
        {
          "output_type": "stream",
          "name": "stdout",
          "text": [
            "238/238 [==============================] - 7s 27ms/step\n"
          ]
        }
      ]
    }
  ]
}